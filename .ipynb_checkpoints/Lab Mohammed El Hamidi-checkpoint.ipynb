{
 "cells": [
  {
   "cell_type": "markdown",
   "metadata": {},
   "source": [
    "# Gaussian mixture model estimation with the EM algorithm\n",
    "\n",
    "<img src=\"adventures_bayes.gif\" width=\"500\" align=\"center\">\n",
    "\n",
    "Image credit:  [Bayesian Learning for Signal Processing](https://members.loria.fr/ADeleforge/files/bayesian_inference_electronic.pdf), Antoine Deleforge, LVA/ICA 2015 Summer School."
   ]
  },
  {
   "cell_type": "code",
   "execution_count": 470,
   "metadata": {},
   "outputs": [],
   "source": [
    "import numpy as np\n",
    "import scipy as sp\n",
    "from scipy.stats import norm\n",
    "from scipy.stats import multivariate_normal\n",
    "import matplotlib\n",
    "import matplotlib.pyplot as plt\n",
    "\n",
    "from gmm_tools import plot_GMM, plot_data, generate_Bayes_adventures_data\n",
    "\n",
    "np.random.seed(12)"
   ]
  },
  {
   "cell_type": "markdown",
   "metadata": {},
   "source": [
    "On Tuesday October 7, 1949, Thomas Bayes is going to visit Oxford University. Upon arriving at the university, three prankster students throw dozens of small stones at him from the roof. Bayes wants to know which student has thrown which stone. Determined, he begins to note the 2D position of each single stone on the ground."
   ]
  },
  {
   "cell_type": "code",
   "execution_count": 12,
   "metadata": {},
   "outputs": [
    {
     "name": "stdout",
     "output_type": "stream",
     "text": [
      "(500, 2)\n"
     ]
    },
    {
     "data": {
      "image/png": "[encoded data removed]",
      "text/plain": [
       "<Figure size 720x288 with 1 Axes>"
      ]
     },
     "metadata": {
      "needs_background": "light"
     },
     "output_type": "display_data"
    }
   ],
   "source": [
    "N = 500 # number of samples (number of stones)\n",
    "D = 2 # number of dimensions (x and y coordinates)\n",
    "\n",
    "gen = generate_Bayes_adventures_data(N, D)\n",
    "x = gen[-1]\n",
    "\n",
    "plot_data(x)\n",
    "print(x.shape)"
   ]
  },
  {
   "cell_type": "markdown",
   "metadata": {},
   "source": [
    "# Theoretical work\n",
    "\n",
    "## Generative model\n",
    "\n",
    "<img src=\"bayes_latents_1.png\" width=\"400\" align=\"center\">\n",
    "\n",
    "For his investigation, Thomas Bayes defines the generative process of the observed data as follows:\n",
    "\n",
    "He observes a realization of a set of **observed random variables** denoted by $ \\mathbf{x} = \\{\\mathbf{x}_n \\in \\mathbb{R}^2\\}_{n=1}^N$, where $\\mathbf{x}_n$ corresponds to the 2D position of the $n$-th stone.\n",
    "\n",
    "These observations are generated from a set of **latent unobserved random variables** denoted by $ \\mathbf{z} = \\{z_n \\in \\{1,...,K\\} \\}_{n=1}^N$, where $z_n$ denotes the identity of the student (among $K=3$ students) who threw the $n$-th stone.\n",
    "\n",
    "The relationships between the latent and observed variables are defined by their **joint distribution**, also called **complete-data likelihood**:\n",
    "\n",
    "\n",
    "$$ \n",
    "\\begin{aligned}\n",
    "p(\\mathbf{x}, \\mathbf{z}; \\theta) &= \\prod_{n=1}^N p(\\mathbf{x}_n | {z}_n; \\theta) p({z}_n; \\theta)  \\\\\n",
    "&= \\prod_{n=1}^N \\prod_{k=1}^K \\left( p(\\mathbf{x}_n | {z}_n=k; \\theta) p({z}_n=k; \\theta) \\right)^{\\mathbb{1}\\{z_n = k\\}},\n",
    "\\end{aligned}\n",
    "$$\n",
    "\n",
    "where $\\mathbb{1}\\{z_n = k\\} = \\begin{cases}1 & \\text{if } z_n = k \\\\ 0 & \\text{otherwise}\\end{cases}$.\n",
    "\n",
    "\n",
    "The **prior** over the latent variables follows a [categorical distribution](https://en.wikipedia.org/wiki/Categorical_distribution):\n",
    "$$ p({z}_n=k; \\theta) = \\pi_k, \\qquad k \\in \\{1,...,K\\}, \\qquad \\text{with }\\, \\pi_k > 0\\, \\text{ and }\\, \\sum_{k=1}^K = 1. $$\n",
    "\n",
    "The **likelihood** is [Gaussian](https://en.wikipedia.org/wiki/Multivariate_normal_distribution):\n",
    "\n",
    "$$ p(\\mathbf{x}_n | z_n=k; \\theta) = \\mathcal{N}(\\mathbf{x}_n; \\boldsymbol{\\mu}_k, \\boldsymbol{\\Sigma}_k),$$\n",
    "\n",
    "with $\\mathcal{N}(\\mathbf{x}; \\boldsymbol{\\mu}, \\boldsymbol{\\Sigma}) = \\displaystyle \\frac{1}{\\sqrt{\\det(2\\pi \\boldsymbol\\Sigma)}} \\exp\\left(-\\frac 1 2 ({\\mathbf x}-{\\boldsymbol\\mu})^\\mathrm{T}{\\boldsymbol\\Sigma}^{-1}({\\mathbf x}-{\\boldsymbol\\mu})\\right).$\n",
    "\n",
    "The set of **unknown deterministic model parameters** is defined by:\n",
    "\n",
    "$$ \\theta = \\{\\pi_k, \\boldsymbol{\\mu}_k, \\boldsymbol{\\Sigma}_k\\}_{k=1}^K. $$\n",
    "\n",
    "The **complete-data log-likelihood** is therefore given by:\n",
    "$$ \\ln p(\\mathbf{x}, \\mathbf{z}; \\theta) =  \\sum_{n=1}^N \\sum_{k=1}^K \\mathbb{1}\\{z_n = k\\} \\left(\\ln \\pi_k + \\ln \\mathcal{N}(\\mathbf{x}_n; \\boldsymbol{\\mu}_k, \\boldsymbol{\\Sigma}_k) \\right). $$"
   ]
  },
  {
   "cell_type": "markdown",
   "metadata": {},
   "source": [
    "## Expectation-Maximization algorithm\n",
    "\n",
    "As direct maximum log-marginal likelihood estimation is intractable, we will derive an expectation-maximization (EM) algorithm.\n"
   ]
  },
  {
   "cell_type": "markdown",
   "metadata": {},
   "source": [
    "\n",
    "\n",
    "Let $\\tilde{\\theta}$ denote the current estimate of the model parameters. Using the above definition of the complete-data log-likelihood, solve the E-step, that is compute the so-called $Q$-function, defined by: \n",
    "\n",
    "$$\\begin{aligned}\n",
    "Q(\\theta, \\tilde{\\theta}) &= \\mathbb{E}_{p(\\mathbf{z} | \\mathbf{x}; \\tilde{\\theta})}[\\ln p(\\mathbf{x}, \\mathbf{z}; \\theta)] \\end{aligned}$$\n",
    "\n",
    "Make the depency on the model parameters $\\theta = \\{\\pi_k, \\boldsymbol{\\mu}_k, \\boldsymbol{\\Sigma}_k\\}_{k=1}^K$ explicit (any constant with respect to these parameters can be omitted).\n",
    "\n",
    "**Hints:**\n",
    "- The expectation of a sum is the sum of the expectations.\n",
    "- $\\mathbb{E}_{p(\\mathbf{z} | \\mathbf{x}; \\tilde{\\theta})}[f(\\mathbf{z}_n)] = \\mathbb{E}_{p(\\mathbf{z}_n | \\mathbf{x}_n; \\tilde{\\theta})}[f(\\mathbf{z}_n)]$ for any arbitrary function $f$;\n",
    "- $\\mathbb{E}_{p(\\mathbf{z}_n | \\mathbf{x}_n; \\tilde{\\theta})}[\\mathbb{1}\\{z_n = k\\}] = \\sum\\limits_{z_n = 1}^K \\mathbb{1}\\{z_n = k\\} p(\\mathbf{z}_n | \\mathbf{x}_n; \\tilde{\\theta}) = p(\\mathbf{z}_n = k | \\mathbf{x}_n; \\tilde{\\theta}) = r_{n,k} $."
   ]
  },
  {
   "cell_type": "markdown",
   "metadata": {},
   "source": [
    "#### Question 2.2b\n",
    "\n",
    "Compute the partial derivative of $Q(\\theta, \\tilde{\\theta})$ w.r.t $\\boldsymbol{\\Sigma}_k$ and set it to zero to get the update of $\\boldsymbol{\\Sigma}_k$.\n",
    "\n",
    "$$\\begin{aligned}\n",
    "\\nabla_{\\boldsymbol{\\Sigma}_k} Q(\\theta, \\tilde{\\theta}) &=  \\\\\n",
    "\\end{aligned}$$\n",
    "\n",
    "You will express the update as a function of $N_k = \\sum_{n=1}^N r_{n,k}$.\n",
    "\n",
    "**Hint**: Use the [trace trick](https://math.stackexchange.com/questions/1761198/proof-on-trace-trick): $\\mathbf{x}^\\top\\boldsymbol{\\Sigma}^{-1}\\mathbf{x} = tr(\\mathbf{x}^\\top\\boldsymbol{\\Sigma}^{-1}\\mathbf{x}) = tr(\\boldsymbol{\\Sigma}^{-1}\\mathbf{x}\\mathbf{x}^\\top) $ and then refer to the matrix derivation formulas in the appendix."
   ]
  },
  {
   "cell_type": "markdown",
   "metadata": {},
   "source": [
    "#### Question 2.2c\n",
    "\n",
    "The update for $\\pi_k$ is obtained by maximizing $Q(\\theta, \\tilde{\\theta})$ under the constraint that $\\sum_{k=1}^K \\pi_k = 1$. We obtain:\n",
    "\n",
    "$$ \\pi_k = N_k / N, $$\n",
    "\n",
    "where $N_k = \\sum_{n=1}^N r_{n,k}$. The optimal prior probablity $p(z_n = k) = \\pi_k$ is thus given by the number of points $N_k$ in cluster $k$ divided by the total number of points $N$.\n",
    "\n",
    "To obtain this expression you have to use the method of [Lagrange multipliers](https://en.wikipedia.org/wiki/Lagrange_multiplier): \n",
    "\n",
    "- you first cancel the partial derivative of the following Lagrangian w.r.t $\\pi_k$:\n",
    "\n",
    "    $$ \\mathcal{L}(\\theta, \\tilde{\\theta}, \\lambda) = Q(\\theta, \\tilde{\\theta}) + \\lambda \\left(\\sum_{k=1}^K \\pi_k - 1\\right). $$\n",
    "\n",
    "- then you simply inject this solution into the constraint to find out the solution for $\\lambda$."
   ]
  },
  {
   "cell_type": "markdown",
   "metadata": {},
   "source": [
    "# Practical work"
   ]
  },
  {
   "cell_type": "code",
   "execution_count": 471,
   "metadata": {},
   "outputs": [],
   "source": [
    "class GMM():\n",
    "    \"\"\"\n",
    "    Gaussian mixture model\n",
    "   \"\"\"\n",
    "    def __init__(self, n_comp, data_dim=2, seed=None):\n",
    "\n",
    "        super(GMM, self).__init__()\n",
    "\n",
    "        self.n_comp = n_comp\n",
    "        self.data_dim = 2\n",
    "        self.init_param(seed=seed)\n",
    "                \n",
    "    def init_param(self, pis=None, means=None, covars=None, seed=None):\n",
    "        \"\"\"\n",
    "        Initialize the model parameters using the provided arguments \n",
    "        or randomly.\n",
    "        \n",
    "        Inputs \n",
    "            pis: list of prior probabilities, length equal to self.n_comp\n",
    "            means: list of GMM means, length equal to self.n_comp\n",
    "            covars: list of GMM means, length equal to self.n_comp\n",
    "        Outputs\n",
    "            None\n",
    "        \"\"\"\n",
    "        \n",
    "        if seed is not None:\n",
    "            np.random.seed(seed)\n",
    "        \n",
    "        if pis is not None:\n",
    "            self.pis = pis\n",
    "        else:\n",
    "            self.pis = []\n",
    "            for k in np.arange(self.n_comp):\n",
    "                # prior set to 1/K\n",
    "                self.pis.append(1/self.n_comp)\n",
    "        \n",
    "        if means is not None:\n",
    "            self.means = means\n",
    "        else:\n",
    "            self.means = []\n",
    "            for k in np.arange(self.n_comp):\n",
    "                # mean vector drawn from a centered unit Gaussian\n",
    "                mean = np.random.randn(self.data_dim)\n",
    "                self.means.append(mean)\n",
    "                \n",
    "        if covars is not None:\n",
    "            self.covars = covars\n",
    "        else:\n",
    "            self.covars = []\n",
    "            for k in np.arange(self.n_comp):\n",
    "                # identity covariance\n",
    "                covar = np.eye(self.data_dim)\n",
    "                self.covars.append(covar)\n",
    "                \n",
    "        if seed is not None:\n",
    "            np.random.seed()\n",
    "                \n",
    "    def fit(self, data, n_iter=50):\n",
    "        \"\"\"\n",
    "        Fit a GMM with the EM algorithm\n",
    "        \n",
    "        Inputs \n",
    "            data (number of points, dimension) array\n",
    "            n_iter \n",
    "               \n",
    "        Outputs\n",
    "            log-marginal likelihood\n",
    "        \"\"\"\n",
    "        LML = []\n",
    "              \n",
    "        for iter in np.arange(n_iter):\n",
    "            \n",
    "            resp = self.E_step(data)\n",
    "            self.M_step(data, resp)\n",
    "            LML.append(self.compute_LML(data))\n",
    "            \n",
    "        return LML\n",
    "    \n",
    "    def E_step(self, data):\n",
    "        \"\"\"\n",
    "        Compute the responsabilities\n",
    "        \n",
    "        Inputs \n",
    "            data (number of points, dimension) array\n",
    "               \n",
    "        Outputs\n",
    "            responsabilities (number of points, number of GMM components)\n",
    "        \"\"\"\n",
    "        \n",
    "        N = data.shape[0]\n",
    "        \n",
    "        resp = np.zeros((N,self.n_comp))\n",
    "        \n",
    "        ###### TO COMPLETE ######\n",
    "        # Use the static method GMM.compute_pdf_multi_gaussian() defined below\n",
    "        for k in range(len(self.pis)):\n",
    "            resp[:,k] += self.pis[k]*GMM.compute_pdf_multi_gaussian(data, self.means[k], self.covars[k])\n",
    "        resp = resp / np.sum(resp , axis = 1).reshape(N,1)\n",
    "        #########################\n",
    "        \n",
    "        return resp\n",
    "\n",
    "    def M_step(self, data, resp):\n",
    "        \"\"\"\n",
    "        Update the model parameters\n",
    "        \n",
    "        Inputs \n",
    "            data: (number of points, dimension) array\n",
    "               \n",
    "        Outputs\n",
    "            None\n",
    "        \"\"\"\n",
    "        \n",
    "        ###### TO COMPLETE ######\n",
    "\n",
    "        Nk = np.sum(resp, axis=0)\n",
    "      \n",
    "        M = Nk.shape[0]\n",
    "        \n",
    "        #self.means = np.sum(np.dot(np.transpose(resp) , data), axis=1)/Nk.reshape(M,1)  \n",
    "        for k in range(len(self.pis)):\n",
    "            self.means[k] = np.sum(resp[:,k][:,np.newaxis]*data, axis = 0)/Nk[k]\n",
    "\n",
    "            self.covars[k] = np.transpose((resp[:,k][:,np.newaxis]*(data-self.means[k])))@(data-self.means[k])/Nk[k]\n",
    "            #self.covars[k]\n",
    "            \n",
    "        self.pis = Nk/N\n",
    "                    \n",
    "\n",
    "        #########################\n",
    "            \n",
    "    def compute_LML(self, data):\n",
    "        \"\"\"\n",
    "        Compute the log-marginal likelihood\n",
    "        \n",
    "        Inputs \n",
    "            data: (number of points, dimension) array\n",
    "               \n",
    "        Outputs\n",
    "            log-marginal likelihood\n",
    "        \"\"\"\n",
    "        \n",
    "        LML = 0\n",
    "        \n",
    "        ###### TO COMPLETE ######              \n",
    "       \n",
    "        for k in range(len(self.pis)):\n",
    "\n",
    "\n",
    "            LML += self.pis[k]*GMM.compute_pdf_multi_gaussian(data, self.means[k], self.covars[k])\n",
    "            #LML += self.pis[k]*GMM.compute_pdf_multi_gaussian(data, self.means, self.covars)\n",
    "        \n",
    "        LML = np.log(LML)\n",
    "        \n",
    "        LML = np.mean(LML)\n",
    "        #########################\n",
    "        \n",
    "        return LML\n",
    "        \n",
    "    \n",
    "    @staticmethod\n",
    "    def compute_pdf_multi_gaussian(data, mean, covar):\n",
    "        \"\"\"\n",
    "        Compute the pdf of a multivariate Gaussian distribution\n",
    "                \n",
    "        Inputs \n",
    "            data: data points to evaluate the pdf (number of points, dimension) array\n",
    "            mean: mean vector (dimension,) array\n",
    "            covar: covariance matrix (dimension, dimension) array\n",
    "               \n",
    "        Outputs\n",
    "            pdf evaluated on 'data', (number of points,) array\n",
    "        \"\"\"\n",
    "        rv = multivariate_normal(mean, covar)\n",
    "        return rv.pdf(data)\n",
    "\n"
   ]
  },
  {
   "cell_type": "markdown",
   "metadata": {},
   "source": [
    "The ```GMM``` class defined in the previous cell implements a Gaussian mixture model. It has two important methods:\n",
    "- ```init_param()``` initializes the model parameters\n",
    "- ```fit()``` runs the EM algorithm to estimate the model parameters. It alternates between the E- and M-steps, and after each iteration it computes the log-marginal likelihood.\n",
    "\n",
    "In the following cell, we instantiate this class for our problem."
   ]
  },
  {
   "cell_type": "code",
   "execution_count": 472,
   "metadata": {},
   "outputs": [],
   "source": [
    "gmm = GMM(n_comp=3, data_dim=2, seed=2)"
   ]
  },
  {
   "cell_type": "markdown",
   "metadata": {},
   "source": [
    "### Exercise 3\n",
    "\n",
    "#### Exercise 3.1\n",
    "\n",
    "Complete the method that computes the log-marginal likelihood (LML) and run the following cell.\n",
    "\n",
    "The LML is defined as a sum over the data points. You will divide this sum by the number of data points, so that the value of the objective function does not depend on the size of the dataset. In other words, compute the mean instead of the sum."
   ]
  },
  {
   "cell_type": "code",
   "execution_count": 473,
   "metadata": {},
   "outputs": [
    {
     "name": "stdout",
     "output_type": "stream",
     "text": [
      "log-marginal likelihood: -22.5486\n",
      "so far, it seems to be ok\n"
     ]
    }
   ],
   "source": [
    "LML_init = gmm.compute_LML(x)\n",
    "\n",
    "print(\"log-marginal likelihood: %.4f\" % LML_init)\n",
    "\n",
    "if int(LML_init*1000) == -22548:\n",
    "    print(\"so far, it seems to be ok\")\n",
    "else:\n",
    "    print(\"argh, this is not the expected result, either you made a mistake, or my unit test is badly designed\")"
   ]
  },
  {
   "cell_type": "markdown",
   "metadata": {},
   "source": [
    "#### Exercise 3.2\n",
    "\n",
    "Complete the method that computes the E-step and run the following cell."
   ]
  },
  {
   "cell_type": "code",
   "execution_count": 474,
   "metadata": {},
   "outputs": [
    {
     "name": "stdout",
     "output_type": "stream",
     "text": [
      "so far, it seems to be ok\n"
     ]
    }
   ],
   "source": [
    "resp = gmm.E_step(x)\n",
    "\n",
    "if np.sum(resp) == N:\n",
    "    print(\"so far, it seems to be ok\")\n",
    "else:\n",
    "    print(\"argh, this is not the expected result, either you made a mistake, or my unit test is badly designed\")"
   ]
  },
  {
   "cell_type": "markdown",
   "metadata": {},
   "source": [
    "To assign each point to each cluster, we simply look at the argmax of the reponsabilities. Run the following cell."
   ]
  },
  {
   "cell_type": "code",
   "execution_count": 475,
   "metadata": {},
   "outputs": [
    {
     "data": {
      "text/plain": [
       "Text(0.5, 1.0, 'estimation')"
      ]
     },
     "execution_count": 475,
     "metadata": {},
     "output_type": "execute_result"
    },
    {
     "data": {
      "image/png": "[encoded data removed]",
      "text/plain": [
       "<Figure size 720x288 with 1 Axes>"
      ]
     },
     "metadata": {
      "needs_background": "light"
     },
     "output_type": "display_data"
    }
   ],
   "source": [
    "z_hat = np.argmax(resp, axis=1)\n",
    "\n",
    "fig1 = plt.figure(figsize=(10,4))\n",
    "ax1 = fig1.add_subplot(111)\n",
    "plot_GMM(x, z_hat, gmm.means, gmm.covars, colors=['b','g','r'], ax=ax1)\n",
    "ax1.set_title('estimation')"
   ]
  },
  {
   "cell_type": "markdown",
   "metadata": {},
   "source": [
    "Can you explain what you observe?"
   ]
  },
  {
   "cell_type": "markdown",
   "metadata": {},
   "source": [
    "#### Exercise 3.3\n",
    "\n",
    "Complete the method that computes the M-step and run the following cell.\n",
    "\n",
    "Hint: Updating the covariance matrix requires computing the outer product of vectors. Look at the notebook `numpy new axis trick` to help you."
   ]
  },
  {
   "cell_type": "code",
   "execution_count": 476,
   "metadata": {},
   "outputs": [],
   "source": [
    "gmm.M_step(x, resp)"
   ]
  },
  {
   "cell_type": "code",
   "execution_count": 477,
   "metadata": {},
   "outputs": [
    {
     "name": "stdout",
     "output_type": "stream",
     "text": [
      "19556.30722357008\n",
      "log-marginal likelihood: -2.9923\n",
      "log-marginal likelihood improvement: 19.5563\n",
      "\n",
      "the log-marginal likelihood increased, well done!\n"
     ]
    }
   ],
   "source": [
    "LML = gmm.compute_LML(x)\n",
    "delta_LML = LML - LML_init\n",
    "print(delta_LML*1000)\n",
    "print(\"log-marginal likelihood: %.4f\" % LML)\n",
    "print(\"log-marginal likelihood improvement: %.4f\" % delta_LML)\n",
    "\n",
    "if int(delta_LML*1000) == 19556:\n",
    "    print(\"\\nthe log-marginal likelihood increased, well done!\")\n",
    "else:\n",
    "    print(\"argh, this is not the expected result, either you made a mistake, or my unit test is badly designed\")"
   ]
  },
  {
   "cell_type": "markdown",
   "metadata": {},
   "source": [
    "#### If you got all my encouraging messages, then you are ready to fit the GMM on the data!"
   ]
  },
  {
   "cell_type": "code",
   "execution_count": 478,
   "metadata": {},
   "outputs": [],
   "source": [
    "LML = gmm.fit(data=x, n_iter=50)"
   ]
  },
  {
   "cell_type": "markdown",
   "metadata": {},
   "source": [
    "In the following cell, we plot the log-marginal likelihood along the iterations. It should be monotonically increasing, a nice feature of the EM algorithm which is very useful for debugging: if the log-marginal likelihood decreases, there is a bug."
   ]
  },
  {
   "cell_type": "code",
   "execution_count": 479,
   "metadata": {},
   "outputs": [
    {
     "data": {
      "text/plain": [
       "Text(0.5, 0, 'EM iterations')"
      ]
     },
     "execution_count": 479,
     "metadata": {},
     "output_type": "execute_result"
    },
    {
     "data": {
      "image/png": "[encoded data removed]",
      "text/plain": [
       "<Figure size 432x288 with 1 Axes>"
      ]
     },
     "metadata": {
      "needs_background": "light"
     },
     "output_type": "display_data"
    }
   ],
   "source": [
    "plt.plot(LML)\n",
    "plt.title(\"log-marginal likelihood\")\n",
    "plt.xlabel(\"EM iterations\")"
   ]
  },
  {
   "cell_type": "markdown",
   "metadata": {},
   "source": [
    "Let's have a look to the results."
   ]
  },
  {
   "cell_type": "code",
   "execution_count": 480,
   "metadata": {},
   "outputs": [
    {
     "data": {
      "text/plain": [
       "Text(0.5, 1.0, 'ground truth')"
      ]
     },
     "execution_count": 480,
     "metadata": {},
     "output_type": "execute_result"
    },
    {
     "data": {
      "image/png": "[encoded data removed]",
      "text/plain": [
       "<Figure size 720x288 with 1 Axes>"
      ]
     },
     "metadata": {
      "needs_background": "light"
     },
     "output_type": "display_data"
    }
   ],
   "source": [
    "(pis_true, means_true, covars_true, z_true, _) = gen\n",
    "\n",
    "\n",
    "fig2 = plt.figure(figsize=(10,4))\n",
    "ax2 = fig2.add_subplot(111)\n",
    "plot_GMM(x, z_true, means_true, covars_true, colors=['b','g','r'], ax=ax2)\n",
    "ax2.set_title('ground truth')"
   ]
  },
  {
   "cell_type": "code",
   "execution_count": 481,
   "metadata": {},
   "outputs": [
    {
     "data": {
      "text/plain": [
       "Text(0.5, 1.0, 'estimation')"
      ]
     },
     "execution_count": 481,
     "metadata": {},
     "output_type": "execute_result"
    },
    {
     "data": {
      "image/png": "[encoded data removed]",
      "text/plain": [
       "<Figure size 720x288 with 1 Axes>"
      ]
     },
     "metadata": {
      "needs_background": "light"
     },
     "output_type": "display_data"
    }
   ],
   "source": [
    "resp = gmm.E_step(x)\n",
    "z_hat = np.argmax(resp, axis=1)\n",
    "\n",
    "fig1 = plt.figure(figsize=(10,4))\n",
    "ax1 = fig1.add_subplot(111)\n",
    "plot_GMM(x, z_hat, gmm.means, gmm.covars, colors=['b','g','r'], ax=ax1)\n",
    "ax1.set_title('estimation')"
   ]
  },
  {
   "cell_type": "markdown",
   "metadata": {},
   "source": [
    "We used synthetic data, so we actually also know the true model parameters."
   ]
  },
  {
   "cell_type": "markdown",
   "metadata": {},
   "source": [
    "This is not perfect, but not that bad either... "
   ]
  },
  {
   "cell_type": "markdown",
   "metadata": {},
   "source": [
    "#### Exercise 3.4\n",
    "\n",
    "Re-run the complete pipeline several times after changing the seed that is used to instantiate the GMM. Explain what you observe.\n"
   ]
  },
  {
   "cell_type": "markdown",
   "metadata": {},
   "source": [
    "## Bonus\n",
    "\n",
    "Use the [K-means](https://en.wikipedia.org/wiki/K-means_clustering) algorithm to initialize the model parameters."
   ]
  },
  {
   "cell_type": "code",
   "execution_count": 539,
   "metadata": {},
   "outputs": [
    {
     "data": {
      "text/plain": [
       "Text(0.5, 1.0, 'K-means initialization of parameters')"
      ]
     },
     "execution_count": 539,
     "metadata": {},
     "output_type": "execute_result"
    },
    {
     "data": {
      "image/png": "[encoded data removed]",
      "text/plain": [
       "<Figure size 720x288 with 1 Axes>"
      ]
     },
     "metadata": {
      "needs_background": "light"
     },
     "output_type": "display_data"
    }
   ],
   "source": [
    "y = KMeans(n_clusters=3, random_state=0).fit_predict(x)\n",
    "c1 , c2 , c3 = [] , [] , []\n",
    "for k in range(len(y)):\n",
    "    if y[k] == 0:\n",
    "        c1.append([x[k][0],x[k][1]])\n",
    "    if y[k] == 1:\n",
    "        c2.append([x[k][0],x[k][1]])\n",
    "    if y[k] == 2:\n",
    "        c3.append([x[k][0],x[k][1]])\n",
    "\n",
    "c1 = np.array(c1)\n",
    "c2 = np.array(c2)\n",
    "c3 = np.array(c3)\n",
    "\n",
    "Mean = []\n",
    "mean1 = np.mean(c1 , axis=0)\n",
    "Mean.append(mean1)\n",
    "mean2 = np.mean(c2 , axis=0)\n",
    "Mean.append(mean2)\n",
    "mean3 = np.mean(c3 , axis=0)\n",
    "Mean.append(mean3)\n",
    "\n",
    "\n",
    "Cova = []\n",
    "cova1 = np.cov(c1.T)\n",
    "Cova.append(cova1)\n",
    "cova2 = np.cov(c2.T)\n",
    "Cova.append(cova2)\n",
    "cova3 = np.cov(c3.T)\n",
    "Cova.append(cova3)\n",
    "        \n",
    "\n",
    "fig1 = plt.figure(figsize=(10,4))\n",
    "ax1 = fig1.add_subplot(111)\n",
    "plot_GMM(x, y, Mean, Cova, colors=['b','g','r'], ax=ax1)\n",
    "ax1.set_title('K-means initialization of parameters')"
   ]
  },
  {
   "cell_type": "markdown",
   "metadata": {},
   "source": [
    "# Writing the K-means initialization function"
   ]
  },
  {
   "cell_type": "code",
   "execution_count": 538,
   "metadata": {},
   "outputs": [],
   "source": [
    " def init_param(self, pis=None, means=None, covars=None, seed=None):\n",
    "        \"\"\"\n",
    "        Initialize the model parameters using the provided arguments \n",
    "        or randomly.\n",
    "        \n",
    "        Inputs \n",
    "            pis: list of prior probabilities, length equal to self.n_comp\n",
    "            means: list of GMM means, length equal to self.n_comp\n",
    "            covars: list of GMM means, length equal to self.n_comp\n",
    "        Outputs\n",
    "            None\n",
    "        \"\"\"\n",
    "        \n",
    "        if seed is not None:\n",
    "            np.random.seed(seed)\n",
    "        \n",
    "        if pis is not None:\n",
    "            self.pis = pis\n",
    "        else:\n",
    "            self.pis = []\n",
    "            for k in np.arange(self.n_comp):\n",
    "                # prior set to 1/K\n",
    "                self.pis.append(1/self.n_comp)\n",
    "        \n",
    "        if means is not None:\n",
    "            self.means = mean\n",
    "        else:\n",
    "            self.means = Mean\n",
    "\n",
    "        if covars is not None:\n",
    "            self.covars = covars\n",
    "        else:\n",
    "            self.covars = Cova\n",
    "                \n",
    "        if seed is not None:\n",
    "            np.random.seed()"
   ]
  },
  {
   "cell_type": "markdown",
   "metadata": {},
   "source": [
    "## Appendix\n",
    "\n",
    "\n",
    "\n",
    "For $f:  \\mathbb{R}^{I \\times J} \\mapsto \\mathbb{R}$, the gradient is defined by $\\frac{d}{d \\mathbf{X}} f(\\mathbf{X}) = \\nabla_{\\mathbf{X}}f(\\mathbf{X}) =  [\\frac{\\partial}{\\partial X_{ij}} f(\\mathbf{X}) ]_{ij} $.\n",
    "\n",
    "Below are some useful derivatives:\n",
    "\n",
    "\\begin{equation}\n",
    "\\frac{\\partial \\mathbf{x}^T \\mathbf{a}}{\\partial \\mathbf{x}} = \\frac{\\partial \\mathbf{a}^T \\mathbf{x}}{\\partial \\mathbf{x}} = \\mathbf{a}\n",
    "\\end{equation}\n",
    "\n",
    "\\begin{equation}\n",
    "\\frac{\\partial \\mathbf{x}^T \\mathbf{A} \\mathbf{x}}{\\partial \\mathbf{x}} = 2 \\mathbf{A} \\mathbf{x}, \\qquad \\text{if } \\mathbf{A} \\text{ is symmetric}\n",
    "\\end{equation}\n",
    "\n",
    "\\begin{equation}\n",
    "\\frac{\\partial}{\\partial \\mathbf{X}}tr(\\mathbf{A}\\mathbf{X}^T) = \\mathbf{A}\n",
    "\\label{derTrace1}\n",
    "\\end{equation}\n",
    "\n",
    "\\begin{equation}\n",
    "\\frac{\\partial}{\\partial \\mathbf{X}}tr(\\mathbf{A}\\mathbf{X}) = \\mathbf{A}^T\n",
    "\\label{derTrace2}\n",
    "\\end{equation}\n",
    "\n",
    "\\begin{equation}\n",
    "\\frac{\\partial}{\\partial \\mathbf{X}}tr(\\mathbf{X}^{-1}\\mathbf{A}) = -(\\mathbf{X}^{-1}\\mathbf{A}\\mathbf{X}^{-1})^T\n",
    "\\label{derTraceInverse}\n",
    "\\end{equation}\n",
    "\n",
    "\\begin{equation}\n",
    "\\frac{\\partial}{\\partial \\mathbf{X}}\\ln \\det(\\mathbf{X}) = \\big((\\mathbf{X}^T)^{-1}\\big)^T\n",
    "\\end{equation}"
   ]
  }
 ],
 "metadata": {
  "kernelspec": {
   "display_name": "Python 3",
   "language": "python",
   "name": "python3"
  },
  "language_info": {
   "codemirror_mode": {
    "name": "ipython",
    "version": 3
   },
   "file_extension": ".py",
   "mimetype": "text/x-python",
   "name": "python",
   "nbconvert_exporter": "python",
   "pygments_lexer": "ipython3",
   "version": "3.8.3"
  }
 },
 "nbformat": 4,
 "nbformat_minor": 4
}
